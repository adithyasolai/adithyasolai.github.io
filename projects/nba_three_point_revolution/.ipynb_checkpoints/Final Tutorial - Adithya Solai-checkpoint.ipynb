{
 "cells": [
  {
   "cell_type": "markdown",
   "metadata": {},
   "source": [
    "# Predictive Power of 3-Pointer for Team Win% in 21st Century NBA\n",
    "\n",
    "**by Adithya Solai**\n",
    "\n",
    "CMSC320 Final Tutorial  \n",
    "Section 0101 Dickerson"
   ]
  },
  {
   "cell_type": "markdown",
   "metadata": {},
   "source": [
    "## Motivation & Introduction\n",
    "\n",
    "There are numerous reports and studies done about how the NBA has transformed in the past 5 years in regards to the 3-pt shot. The 3-pointer started to become dominant and popular in the NBA following the success of Stephen Curry and his Golden State Warriors (2015, 2017, & 2018 NBA Champions). Here are some great videos and articles about the **\"Three Point Revolution\"**:\n",
    "\n",
    "  -https://www.nytimes.com/2016/01/21/sports/basketball/how-the-nba-3-point-shot-went-from-gimmick-to-game-changer.html\n",
    "  \n",
    "  -How Data Changed the NBA by The Economist (Houston Rockets & Second Spectrum): https://www.youtube.com/watch?v=oUvvfHkXyOA&ab_channel=TheEconomist\n",
    "\n",
    "  -https://fivethirtyeight.com/features/how-mapping-shots-in-the-nba-changed-it-forever/\n",
    " \n",
    "  -https://fivethirtyeight.com/features/basketballs-other-3-point-revolution/\n",
    " \n",
    "  -https://fivethirtyeight.com/features/stephen-curry-is-the-revolution/\n",
    "\n",
    "\n",
    "-As discussed in the resources above, Data Science & Analytics made coaches, players, and team executives comfortable with adopting the 3-pointer. **Now, we will use Data Science to test if those decisions paid off and are responsible for more wins.**\n",
    "\n",
    "-In this study, I will **calculate and compare the predictive power of 3-pointer-related Season Average Player  Statistics (3PFG%, 3PFGA, etc) in predicting NBA Regular Season team win-pct** in different eras of the 21st century.\n",
    "\n",
    "-The four eras will be 2000-2004, 2005-2009, 2010-2014, and 2015-2019.\n",
    "\n",
    "-I will only use data from players that are \"Starters\" because they have outsized impact on their team's Win% and are enabled to take a wider array of shots. I define a \"Starter\" as a player that starts >= 50% of games in a season for their team, which is the same way that the NBA defines \"Starter\" when determining who is a non-\"Starter\" to award the 6th Man of the Year award."
   ]
  },
  {
   "cell_type": "markdown",
   "metadata": {},
   "source": [
    "## My Questions/Hypotheses\n",
    " \n",
    "-**Confirm the narrative:** are players actually attempting more 3-pointers as time goes on? (a Simple Linear Regression: 3FieldGoalAttempted ~ Year)\n",
    "\n",
    "-Are players becoming more efficient 3-point shooters as time goes on as a by-product of the global increase in 3-pointers attempted? (a Simple Linear Regression: 3FieldGoal% ~ Year) My rationale for this is that efficient 3-point shooting has likely gotten more valuable to teams due to my first hypothesis about more 3-pointers being attempted overall, meaning teams will opt to choose players with higher 3-point efficiency over time as their Starters.\n",
    "\n",
    "-I hypothesize that **3-pt player stats (3-pointers attempted, 3-pointer efficiency, etc) will be statistically significant** even when considering all of the other box score player stats **for ALL 4 eras**. (a Multiple Linear Regression: Win%~All Player Stats)\n",
    "\n",
    "-Primarily, I am interested to see whether the predictive power of 3pt player stats starts to **OUTWEIGH and DOMINATE** the other player stats traditionally regarded as having the most predictive power (FG%, TREB, AST, etc) as time goes on."
   ]
  },
  {
   "cell_type": "markdown",
   "metadata": {},
   "source": [
    "## Data Collection (For Just 2018-2019 Season)\n",
    "\n",
    "**To show my Data Collection Step-by-Step with relevant output, I will first do a run-thru for just the 2018-2019 NBA Season.**\n",
    "\n",
    "**I will also be defining functions along the way that will be used later when doing this process again for all 20 seasons in a for-loop.**"
   ]
  },
  {
   "cell_type": "code",
   "execution_count": 1,
   "metadata": {},
   "outputs": [],
   "source": [
    "import re\n",
    "import requests\n",
    "from bs4 import BeautifulSoup, Comment\n",
    "from os import path\n",
    "import pandas as pd\n",
    "import re\n",
    "import seaborn as sns\n",
    "import matplotlib.pyplot as plt\n",
    "import numpy as np\n",
    "from sklearn import linear_model\n",
    "import statsmodels.api as sm\n",
    "from scipy import stats"
   ]
  },
  {
   "cell_type": "markdown",
   "metadata": {},
   "source": [
    "**Scrape Regular Season Per-Game Average Stats for all NBA players in 2018-2019 season.**\n",
    "\n",
    "Player Per-Game Season Averages URL Example (2018-2019 season): https://www.basketball-reference.com/leagues/NBA_2019_per_game.html"
   ]
  },
  {
   "cell_type": "code",
   "execution_count": 2,
   "metadata": {},
   "outputs": [
    {
     "name": "stdout",
     "output_type": "stream",
     "text": [
      "player_df shape:  (734, 30)\n"
     ]
    },
    {
     "data": {
      "text/html": [
       "<div>\n",
       "<style scoped>\n",
       "    .dataframe tbody tr th:only-of-type {\n",
       "        vertical-align: middle;\n",
       "    }\n",
       "\n",
       "    .dataframe tbody tr th {\n",
       "        vertical-align: top;\n",
       "    }\n",
       "\n",
       "    .dataframe thead th {\n",
       "        text-align: right;\n",
       "    }\n",
       "</style>\n",
       "<table border=\"1\" class=\"dataframe\">\n",
       "  <thead>\n",
       "    <tr style=\"text-align: right;\">\n",
       "      <th></th>\n",
       "      <th>Rk</th>\n",
       "      <th>Player</th>\n",
       "      <th>Pos</th>\n",
       "      <th>Age</th>\n",
       "      <th>Tm</th>\n",
       "      <th>G</th>\n",
       "      <th>GS</th>\n",
       "      <th>MP</th>\n",
       "      <th>FG</th>\n",
       "      <th>FGA</th>\n",
       "      <th>...</th>\n",
       "      <th>FT%</th>\n",
       "      <th>ORB</th>\n",
       "      <th>DRB</th>\n",
       "      <th>TRB</th>\n",
       "      <th>AST</th>\n",
       "      <th>STL</th>\n",
       "      <th>BLK</th>\n",
       "      <th>TOV</th>\n",
       "      <th>PF</th>\n",
       "      <th>PTS</th>\n",
       "    </tr>\n",
       "  </thead>\n",
       "  <tbody>\n",
       "    <tr>\n",
       "      <td>0</td>\n",
       "      <td>1</td>\n",
       "      <td>Álex Abrines</td>\n",
       "      <td>SG</td>\n",
       "      <td>25</td>\n",
       "      <td>OKC</td>\n",
       "      <td>31</td>\n",
       "      <td>2</td>\n",
       "      <td>19.0</td>\n",
       "      <td>1.8</td>\n",
       "      <td>5.1</td>\n",
       "      <td>...</td>\n",
       "      <td>.923</td>\n",
       "      <td>0.2</td>\n",
       "      <td>1.4</td>\n",
       "      <td>1.5</td>\n",
       "      <td>0.6</td>\n",
       "      <td>0.5</td>\n",
       "      <td>0.2</td>\n",
       "      <td>0.5</td>\n",
       "      <td>1.7</td>\n",
       "      <td>5.3</td>\n",
       "    </tr>\n",
       "    <tr>\n",
       "      <td>1</td>\n",
       "      <td>2</td>\n",
       "      <td>Quincy Acy</td>\n",
       "      <td>PF</td>\n",
       "      <td>28</td>\n",
       "      <td>PHO</td>\n",
       "      <td>10</td>\n",
       "      <td>0</td>\n",
       "      <td>12.3</td>\n",
       "      <td>0.4</td>\n",
       "      <td>1.8</td>\n",
       "      <td>...</td>\n",
       "      <td>.700</td>\n",
       "      <td>0.3</td>\n",
       "      <td>2.2</td>\n",
       "      <td>2.5</td>\n",
       "      <td>0.8</td>\n",
       "      <td>0.1</td>\n",
       "      <td>0.4</td>\n",
       "      <td>0.4</td>\n",
       "      <td>2.4</td>\n",
       "      <td>1.7</td>\n",
       "    </tr>\n",
       "    <tr>\n",
       "      <td>2</td>\n",
       "      <td>3</td>\n",
       "      <td>Jaylen Adams</td>\n",
       "      <td>PG</td>\n",
       "      <td>22</td>\n",
       "      <td>ATL</td>\n",
       "      <td>34</td>\n",
       "      <td>1</td>\n",
       "      <td>12.6</td>\n",
       "      <td>1.1</td>\n",
       "      <td>3.2</td>\n",
       "      <td>...</td>\n",
       "      <td>.778</td>\n",
       "      <td>0.3</td>\n",
       "      <td>1.4</td>\n",
       "      <td>1.8</td>\n",
       "      <td>1.9</td>\n",
       "      <td>0.4</td>\n",
       "      <td>0.1</td>\n",
       "      <td>0.8</td>\n",
       "      <td>1.3</td>\n",
       "      <td>3.2</td>\n",
       "    </tr>\n",
       "    <tr>\n",
       "      <td>3</td>\n",
       "      <td>4</td>\n",
       "      <td>Steven Adams</td>\n",
       "      <td>C</td>\n",
       "      <td>25</td>\n",
       "      <td>OKC</td>\n",
       "      <td>80</td>\n",
       "      <td>80</td>\n",
       "      <td>33.4</td>\n",
       "      <td>6.0</td>\n",
       "      <td>10.1</td>\n",
       "      <td>...</td>\n",
       "      <td>.500</td>\n",
       "      <td>4.9</td>\n",
       "      <td>4.6</td>\n",
       "      <td>9.5</td>\n",
       "      <td>1.6</td>\n",
       "      <td>1.5</td>\n",
       "      <td>1.0</td>\n",
       "      <td>1.7</td>\n",
       "      <td>2.6</td>\n",
       "      <td>13.9</td>\n",
       "    </tr>\n",
       "    <tr>\n",
       "      <td>4</td>\n",
       "      <td>5</td>\n",
       "      <td>Bam Adebayo</td>\n",
       "      <td>C</td>\n",
       "      <td>21</td>\n",
       "      <td>MIA</td>\n",
       "      <td>82</td>\n",
       "      <td>28</td>\n",
       "      <td>23.3</td>\n",
       "      <td>3.4</td>\n",
       "      <td>5.9</td>\n",
       "      <td>...</td>\n",
       "      <td>.735</td>\n",
       "      <td>2.0</td>\n",
       "      <td>5.3</td>\n",
       "      <td>7.3</td>\n",
       "      <td>2.2</td>\n",
       "      <td>0.9</td>\n",
       "      <td>0.8</td>\n",
       "      <td>1.5</td>\n",
       "      <td>2.5</td>\n",
       "      <td>8.9</td>\n",
       "    </tr>\n",
       "    <tr>\n",
       "      <td>...</td>\n",
       "      <td>...</td>\n",
       "      <td>...</td>\n",
       "      <td>...</td>\n",
       "      <td>...</td>\n",
       "      <td>...</td>\n",
       "      <td>...</td>\n",
       "      <td>...</td>\n",
       "      <td>...</td>\n",
       "      <td>...</td>\n",
       "      <td>...</td>\n",
       "      <td>...</td>\n",
       "      <td>...</td>\n",
       "      <td>...</td>\n",
       "      <td>...</td>\n",
       "      <td>...</td>\n",
       "      <td>...</td>\n",
       "      <td>...</td>\n",
       "      <td>...</td>\n",
       "      <td>...</td>\n",
       "      <td>...</td>\n",
       "      <td>...</td>\n",
       "    </tr>\n",
       "    <tr>\n",
       "      <td>729</td>\n",
       "      <td>528</td>\n",
       "      <td>Tyler Zeller</td>\n",
       "      <td>C</td>\n",
       "      <td>29</td>\n",
       "      <td>MEM</td>\n",
       "      <td>4</td>\n",
       "      <td>1</td>\n",
       "      <td>20.5</td>\n",
       "      <td>4.0</td>\n",
       "      <td>7.0</td>\n",
       "      <td>...</td>\n",
       "      <td>.778</td>\n",
       "      <td>2.3</td>\n",
       "      <td>2.3</td>\n",
       "      <td>4.5</td>\n",
       "      <td>0.8</td>\n",
       "      <td>0.3</td>\n",
       "      <td>0.8</td>\n",
       "      <td>1.0</td>\n",
       "      <td>4.0</td>\n",
       "      <td>11.5</td>\n",
       "    </tr>\n",
       "    <tr>\n",
       "      <td>730</td>\n",
       "      <td>529</td>\n",
       "      <td>Ante Žižić</td>\n",
       "      <td>C</td>\n",
       "      <td>22</td>\n",
       "      <td>CLE</td>\n",
       "      <td>59</td>\n",
       "      <td>25</td>\n",
       "      <td>18.3</td>\n",
       "      <td>3.1</td>\n",
       "      <td>5.6</td>\n",
       "      <td>...</td>\n",
       "      <td>.705</td>\n",
       "      <td>1.8</td>\n",
       "      <td>3.6</td>\n",
       "      <td>5.4</td>\n",
       "      <td>0.9</td>\n",
       "      <td>0.2</td>\n",
       "      <td>0.4</td>\n",
       "      <td>1.0</td>\n",
       "      <td>1.9</td>\n",
       "      <td>7.8</td>\n",
       "    </tr>\n",
       "    <tr>\n",
       "      <td>731</td>\n",
       "      <td>530</td>\n",
       "      <td>Ivica Zubac</td>\n",
       "      <td>C</td>\n",
       "      <td>21</td>\n",
       "      <td>TOT</td>\n",
       "      <td>59</td>\n",
       "      <td>37</td>\n",
       "      <td>17.6</td>\n",
       "      <td>3.6</td>\n",
       "      <td>6.4</td>\n",
       "      <td>...</td>\n",
       "      <td>.802</td>\n",
       "      <td>1.9</td>\n",
       "      <td>4.2</td>\n",
       "      <td>6.1</td>\n",
       "      <td>1.1</td>\n",
       "      <td>0.2</td>\n",
       "      <td>0.9</td>\n",
       "      <td>1.2</td>\n",
       "      <td>2.3</td>\n",
       "      <td>8.9</td>\n",
       "    </tr>\n",
       "    <tr>\n",
       "      <td>732</td>\n",
       "      <td>530</td>\n",
       "      <td>Ivica Zubac</td>\n",
       "      <td>C</td>\n",
       "      <td>21</td>\n",
       "      <td>LAL</td>\n",
       "      <td>33</td>\n",
       "      <td>12</td>\n",
       "      <td>15.6</td>\n",
       "      <td>3.4</td>\n",
       "      <td>5.8</td>\n",
       "      <td>...</td>\n",
       "      <td>.864</td>\n",
       "      <td>1.6</td>\n",
       "      <td>3.3</td>\n",
       "      <td>4.9</td>\n",
       "      <td>0.8</td>\n",
       "      <td>0.1</td>\n",
       "      <td>0.8</td>\n",
       "      <td>1.0</td>\n",
       "      <td>2.2</td>\n",
       "      <td>8.5</td>\n",
       "    </tr>\n",
       "    <tr>\n",
       "      <td>733</td>\n",
       "      <td>530</td>\n",
       "      <td>Ivica Zubac</td>\n",
       "      <td>C</td>\n",
       "      <td>21</td>\n",
       "      <td>LAC</td>\n",
       "      <td>26</td>\n",
       "      <td>25</td>\n",
       "      <td>20.2</td>\n",
       "      <td>3.8</td>\n",
       "      <td>7.2</td>\n",
       "      <td>...</td>\n",
       "      <td>.733</td>\n",
       "      <td>2.3</td>\n",
       "      <td>5.3</td>\n",
       "      <td>7.7</td>\n",
       "      <td>1.5</td>\n",
       "      <td>0.4</td>\n",
       "      <td>0.9</td>\n",
       "      <td>1.4</td>\n",
       "      <td>2.5</td>\n",
       "      <td>9.4</td>\n",
       "    </tr>\n",
       "  </tbody>\n",
       "</table>\n",
       "<p>734 rows × 30 columns</p>\n",
       "</div>"
      ],
      "text/plain": [
       "      Rk        Player Pos Age   Tm   G  GS    MP   FG   FGA  ...   FT%  ORB  \\\n",
       "0      1  Álex Abrines  SG  25  OKC  31   2  19.0  1.8   5.1  ...  .923  0.2   \n",
       "1      2    Quincy Acy  PF  28  PHO  10   0  12.3  0.4   1.8  ...  .700  0.3   \n",
       "2      3  Jaylen Adams  PG  22  ATL  34   1  12.6  1.1   3.2  ...  .778  0.3   \n",
       "3      4  Steven Adams   C  25  OKC  80  80  33.4  6.0  10.1  ...  .500  4.9   \n",
       "4      5   Bam Adebayo   C  21  MIA  82  28  23.3  3.4   5.9  ...  .735  2.0   \n",
       "..   ...           ...  ..  ..  ...  ..  ..   ...  ...   ...  ...   ...  ...   \n",
       "729  528  Tyler Zeller   C  29  MEM   4   1  20.5  4.0   7.0  ...  .778  2.3   \n",
       "730  529    Ante Žižić   C  22  CLE  59  25  18.3  3.1   5.6  ...  .705  1.8   \n",
       "731  530   Ivica Zubac   C  21  TOT  59  37  17.6  3.6   6.4  ...  .802  1.9   \n",
       "732  530   Ivica Zubac   C  21  LAL  33  12  15.6  3.4   5.8  ...  .864  1.6   \n",
       "733  530   Ivica Zubac   C  21  LAC  26  25  20.2  3.8   7.2  ...  .733  2.3   \n",
       "\n",
       "     DRB  TRB  AST  STL  BLK  TOV   PF   PTS  \n",
       "0    1.4  1.5  0.6  0.5  0.2  0.5  1.7   5.3  \n",
       "1    2.2  2.5  0.8  0.1  0.4  0.4  2.4   1.7  \n",
       "2    1.4  1.8  1.9  0.4  0.1  0.8  1.3   3.2  \n",
       "3    4.6  9.5  1.6  1.5  1.0  1.7  2.6  13.9  \n",
       "4    5.3  7.3  2.2  0.9  0.8  1.5  2.5   8.9  \n",
       "..   ...  ...  ...  ...  ...  ...  ...   ...  \n",
       "729  2.3  4.5  0.8  0.3  0.8  1.0  4.0  11.5  \n",
       "730  3.6  5.4  0.9  0.2  0.4  1.0  1.9   7.8  \n",
       "731  4.2  6.1  1.1  0.2  0.9  1.2  2.3   8.9  \n",
       "732  3.3  4.9  0.8  0.1  0.8  1.0  2.2   8.5  \n",
       "733  5.3  7.7  1.5  0.4  0.9  1.4  2.5   9.4  \n",
       "\n",
       "[734 rows x 30 columns]"
      ]
     },
     "metadata": {},
     "output_type": "display_data"
    }
   ],
   "source": [
    "# Get Per-Game season averages for all NBA players from the 2018-2019 season.\n",
    "player_avgs_2019_url = 'https://www.basketball-reference.com/leagues/NBA_2019_per_game.html'\n",
    "\n",
    "def scrape_players(url):\n",
    "    r = requests.get(url)\n",
    "    #print(r) # Make sure we get Response 200\n",
    "\n",
    "    root = BeautifulSoup(r.content)\n",
    "    #print(type(root)) # Make sure BeautifulSoup object initializes\n",
    "\n",
    "    # Find just the HTML content under the `table` tag, which is where the data is!\n",
    "    player_stats_table = root.find(\"table\").prettify()\n",
    "\n",
    "    # Use pandas's html reader to convert our prettified HTML table into a dataframe.\n",
    "    player_df = pd.read_html(player_stats_table)[0]\n",
    "    \n",
    "    # Our df has more rows than the # of players shown on the original basketball-reference website.\n",
    "\n",
    "    # This is caused by some rows that are just copies of the column headers, since these rows help readers\n",
    "    # of the webpage remember what each column is as they scroll down the webpage. \n",
    "    # We can just use some filtering to drop these rows\n",
    "\n",
    "    # This is also caused by players that switched teams mid-season and have more than 1 row of season avg stats.\n",
    "    # For the purposes of our study, we won't merge them into one row, since we can't just collapse their contributions\n",
    "    # into just one team. Our study is about how the player's stats impacted the Win% of their team, so we need to keep\n",
    "    # the player's contributions to different teams as separate.\n",
    "    \n",
    "    # For the reason above, we will also eventually drop columns with `TOT` as the team, since this a row that combines\n",
    "    # the stats of a player who played for more than one team in one season.\n",
    "\n",
    "    # We will determine whether the player is a starter using a % cuttoff (Games Started / Total Games for that team),\n",
    "    # and not a strict # of Games Started cutoff so that we don't drop starter-caliber players that just happened\n",
    "    # to switch teams mid-season.\n",
    "    \n",
    "    return player_df\n",
    "    \n",
    "player_df_2019 = scrape_players(player_avgs_2019_url)\n",
    "print(\"player_df shape: \", player_df_2019.shape)\n",
    "display(player_df_2019)\n"
   ]
  },
  {
   "cell_type": "markdown",
   "metadata": {},
   "source": [
    "**Scrape NBA Team Standings at the end of the 2018-2019 season.**\n",
    "\n",
    "Team Final Standings URL Example (2018-2019 season): https://www.basketball-reference.com/leagues/NBA_2019_standings.html\n",
    "\n",
    "For some reason, the well-formatted 'Expanded Standings' table from the URL above is stored inside HTML comments in the HTML source code. I had to track down which comment this was and use the fix found here to scrape the data: https://stackoverflow.com/a/52679343"
   ]
  },
  {
   "cell_type": "code",
   "execution_count": 3,
   "metadata": {},
   "outputs": [
    {
     "ename": "AttributeError",
     "evalue": "'NoneType' object has no attribute 'prettify'",
     "output_type": "error",
     "traceback": [
      "\u001b[1;31m---------------------------------------------------------------------------\u001b[0m",
      "\u001b[1;31mAttributeError\u001b[0m                            Traceback (most recent call last)",
      "\u001b[1;32m<ipython-input-3-ef8e14616fd0>\u001b[0m in \u001b[0;36m<module>\u001b[1;34m\u001b[0m\n\u001b[0;32m     30\u001b[0m     \u001b[1;32mreturn\u001b[0m \u001b[0mteam_df\u001b[0m\u001b[1;33m\u001b[0m\u001b[1;33m\u001b[0m\u001b[0m\n\u001b[0;32m     31\u001b[0m \u001b[1;33m\u001b[0m\u001b[0m\n\u001b[1;32m---> 32\u001b[1;33m \u001b[0mteam_df_2019\u001b[0m \u001b[1;33m=\u001b[0m \u001b[0mscrape_standings\u001b[0m\u001b[1;33m(\u001b[0m\u001b[0mteam_standings_2019_url\u001b[0m\u001b[1;33m)\u001b[0m\u001b[1;33m\u001b[0m\u001b[1;33m\u001b[0m\u001b[0m\n\u001b[0m\u001b[0;32m     33\u001b[0m \u001b[0mdisplay\u001b[0m\u001b[1;33m(\u001b[0m\u001b[0mteam_df_2019\u001b[0m\u001b[1;33m)\u001b[0m\u001b[1;33m\u001b[0m\u001b[1;33m\u001b[0m\u001b[0m\n",
      "\u001b[1;32m<ipython-input-3-ef8e14616fd0>\u001b[0m in \u001b[0;36mscrape_standings\u001b[1;34m(url)\u001b[0m\n\u001b[0;32m     21\u001b[0m     \u001b[1;31m# Find all the data under the `table` tag, and prettify it so that it can be parsed\u001b[0m\u001b[1;33m\u001b[0m\u001b[1;33m\u001b[0m\u001b[1;33m\u001b[0m\u001b[0m\n\u001b[0;32m     22\u001b[0m     \u001b[1;31m# by pandas' html reader\u001b[0m\u001b[1;33m\u001b[0m\u001b[1;33m\u001b[0m\u001b[1;33m\u001b[0m\u001b[0m\n\u001b[1;32m---> 23\u001b[1;33m     \u001b[0mall_standings_table\u001b[0m\u001b[1;33m=\u001b[0m\u001b[0mcomment_root\u001b[0m\u001b[1;33m.\u001b[0m\u001b[0mfind\u001b[0m\u001b[1;33m(\u001b[0m\u001b[1;34m\"table\"\u001b[0m\u001b[1;33m)\u001b[0m\u001b[1;33m.\u001b[0m\u001b[0mprettify\u001b[0m\u001b[1;33m(\u001b[0m\u001b[1;33m)\u001b[0m\u001b[1;33m\u001b[0m\u001b[1;33m\u001b[0m\u001b[0m\n\u001b[0m\u001b[0;32m     24\u001b[0m     \u001b[0mteam_df\u001b[0m \u001b[1;33m=\u001b[0m \u001b[0mpd\u001b[0m\u001b[1;33m.\u001b[0m\u001b[0mread_html\u001b[0m\u001b[1;33m(\u001b[0m\u001b[0mall_standings_table\u001b[0m\u001b[1;33m)\u001b[0m\u001b[1;33m[\u001b[0m\u001b[1;36m0\u001b[0m\u001b[1;33m]\u001b[0m\u001b[1;33m\u001b[0m\u001b[1;33m\u001b[0m\u001b[0m\n\u001b[0;32m     25\u001b[0m \u001b[1;33m\u001b[0m\u001b[0m\n",
      "\u001b[1;31mAttributeError\u001b[0m: 'NoneType' object has no attribute 'prettify'"
     ]
    }
   ],
   "source": [
    "team_standings_2019_url = 'https://www.basketball-reference.com/leagues/NBA_2019_standings.html'\n",
    "\n",
    "def scrape_standings(url):\n",
    "    r = requests.get(url)\n",
    "    #print(r) # Make sure we get Response 200\n",
    "\n",
    "    root = BeautifulSoup(r.content, 'lxml')\n",
    "    #print(type(root)) # Make sure BeautifulSoup object initializes\n",
    "    \n",
    "    # Scrape all the content within HTML Comments into a list `comments`\n",
    "    comments = root.find_all(text=lambda text:isinstance(text, Comment))\n",
    "\n",
    "    # By analyzing the list of comments above, I observed that the data we want\n",
    "    # is always contained in index 26 for all 20 NBA seasons we will scrape for.\n",
    "    all_standings_comment=comments[26]\n",
    "\n",
    "    # Re-initialize our BeautifulSoup object to only parse and scrape the HTML contents \n",
    "    # stored in the HTML Comment found above\n",
    "    comment_root = BeautifulSoup(all_standings_comment, 'lxml')\n",
    "    \n",
    "    # Find all the data under the `table` tag, and prettify it so that it can be parsed\n",
    "    # by pandas' html reader\n",
    "    all_standings_table=comment_root.find(\"table\").prettify()\n",
    "    team_df = pd.read_html(all_standings_table)[0]\n",
    "\n",
    "    # The data originally has a MultiIndex column structure to help indicate\n",
    "    # things like \"Division\", we don't need that.\n",
    "    team_df.columns=team_df.columns.droplevel()\n",
    "    \n",
    "    return team_df\n",
    "\n",
    "team_df_2019 = scrape_standings(team_standings_2019_url)\n",
    "display(team_df_2019)"
   ]
  },
  {
   "cell_type": "markdown",
   "metadata": {},
   "source": [
    "**Scrape Current-Day NBA Abbreviations for NBA Teams**\n",
    "\n",
    "URL: https://en.wikipedia.org/wiki/Wikipedia:WikiProject_National_Basketball_Association/National_Basketball_Association_team_abbreviations"
   ]
  },
  {
   "cell_type": "code",
   "execution_count": null,
   "metadata": {},
   "outputs": [],
   "source": [
    "def scrape_abbrev():\n",
    "    team_abbrev_url='https://en.wikipedia.org/wiki/Wikipedia:WikiProject_National_Basketball_Association/National_Basketball_Association_team_abbreviations'\n",
    "    r = requests.get(team_abbrev_url)\n",
    "    #print(r) # Make sure we get Response 200\n",
    "\n",
    "    root = BeautifulSoup(r.content, 'lxml')\n",
    "    #print(type(root)) # Make sure BeautifulSoup object initializes\n",
    "    \n",
    "    abbrev_table = root.find(\"table\").prettify()\n",
    "\n",
    "    abbrev_df = pd.read_html(abbrev_table)[0]\n",
    "\n",
    "    # Rename columns, and remove first row (which is just the header from the original data source)\n",
    "    abbrev_df.columns = [\"Abbrev\", \"Franchise\"]\n",
    "    abbrev_df = abbrev_df[1:]\n",
    "\n",
    "    display(abbrev_df)\n",
    "    \n",
    "    return abbrev_df\n",
    "\n",
    "abbrev_df = scrape_abbrev()"
   ]
  },
  {
   "cell_type": "markdown",
   "metadata": {},
   "source": [
    "## Data Preparation (For Just 2018-2019 Season)\n",
    "\n",
    "**Like Data Collection, I will be showing this process Step-by-Step for the 2018-2019 season dfs created before, and defining functions along the way that will help when tackling all 20 seasons in a for-loop.**"
   ]
  },
  {
   "cell_type": "markdown",
   "metadata": {},
   "source": [
    "**`player_df`:**  \n",
    "\n",
    "-Remove column header copy rows. These rows are in the website to help readers remember what each column\n",
    " means as they scroll down the webpage.\n",
    " \n",
    "-Remove rows where `Tm` column value = TOT, as these are combined stats for players who played on more than one team in a season (due to trades). We can't have this, as it won't merge properly with our team standings table, since there is no team with abbreviation TOT."
   ]
  },
  {
   "cell_type": "code",
   "execution_count": null,
   "metadata": {},
   "outputs": [],
   "source": [
    "def dataprep_players(player_df):\n",
    "    # remove rows that are just copies of the column headers\n",
    "    # they all have their name in the Player column as 'Player', so we can use this to filter them out\n",
    "    # Drop all rows with Player name = 'Player'\n",
    "    player_df = player_df[player_df['Player'] != 'Player']\n",
    "    \n",
    "    # Drop rows with Tm=TOT, since these are combined stats for players who played on \n",
    "    # more than 1 team this season. We can't have this for our final analysis\n",
    "    player_df = player_df[player_df['Tm'] != 'TOT']\n",
    "    \n",
    "    return player_df\n",
    "    \n",
    "print('Before Dropping Header Copy Rows & Tm=TOT rows: ', player_df_2019.shape)\n",
    "player_df_2019 = dataprep_players(player_df_2019)\n",
    "# Check that the overall # of rows has decreased.\n",
    "print('After Dropping Header Copy Rows & TOT rows: ', player_df_2019.shape)"
   ]
  },
  {
   "cell_type": "markdown",
   "metadata": {},
   "source": [
    "**`team_df`:** \n",
    "\n",
    "-Drop all columns except `Team` and `Overall`\n",
    "\n",
    "-Use regex to create `W` and `L` column from the values in the `Overall` column. `W` is the # of wins the team had that season, and `L` is the # of losses.\n",
    "\n",
    "-Use `W` and `L` columns to construct the `win_pct` column (Formula: Wins/Total Games or `W`/(`W`+`L`))\n",
    "\n",
    "-Using `win_pct` in a season instead of Games Won is a natural standardizer/normalizer across seasons. Some seasons may have had less than the standard of 82 (blackout years, COVID-19 pandemic, etc), so Games Won should not be the value used as our response variable."
   ]
  },
  {
   "cell_type": "code",
   "execution_count": null,
   "metadata": {},
   "outputs": [],
   "source": [
    "def dataprep_teams(team_df, abbrev_df):\n",
    "    # Merge with `abbrev_df` to bring over the abbreviations\n",
    "    team_df = team_df.merge(right=abbrev_df, left_on='Team', right_on='Franchise')\n",
    "\n",
    "    # Drop all columns except Team, Overall record, and Abbrev\n",
    "    team_df = team_df[['Abbrev', 'Team', 'Overall']]\n",
    "\n",
    "    # Create a `W` and `L` column out of the `Overall` column\n",
    "    for row in team_df.iterrows():\n",
    "        # Get the current row's `Overall` column value\n",
    "        curr_overall = row[1]['Overall']\n",
    "\n",
    "        # Extract wins and losses from `Overall` column value, and store the match groups\n",
    "        w_and_l= re.search(r\"^(\\d{1,2})-(\\d{1,2})$\", curr_overall).groups()\n",
    "\n",
    "        # use the list of matches to retrieve wins and losses\n",
    "        wins = int(w_and_l[0])\n",
    "        losses = int(w_and_l[1])\n",
    "\n",
    "        # Store these values in new columns `W` and `L`\n",
    "        curr_index = row[0]\n",
    "        team_df.at[curr_index, 'W'] = wins\n",
    "        team_df.at[curr_index, 'L'] = losses\n",
    "\n",
    "    # No longer need `Overall` column\n",
    "    team_df = team_df[['Abbrev', 'Team', 'W', 'L']]\n",
    "    \n",
    "    # Create win_pct column using formula: W / (W+L)\n",
    "    team_df['win_pct'] = team_df['W'] / (team_df['W'] + team_df['L'])\n",
    "    \n",
    "    return team_df\n",
    "\n",
    "team_df_2019 = dataprep_teams(team_df_2019, abbrev_df)\n",
    "display(team_df_2019)"
   ]
  },
  {
   "cell_type": "markdown",
   "metadata": {},
   "source": [
    "**Merge `player_df` and `team_df` into `player_winpct_df`:** \n",
    "\n",
    "-With `player_df` as left and `team_df` as right, inner-Join on on Year & Team to create `player_winpct_df`\n",
    "\n",
    "-Filter down to only starters from each year. This is to help see better patterns in 3FGA, as non-starters probably won't see a noticeable increase in 3-pointers attempted since they don't get many shots per game to begin with. Use the definition of starter used to determine the 6th Man of the Year award (https://en.wikipedia.org/wiki/NBA_Sixth_Man_of_the_Year_Award). To not be considered a \"Starter\", you need to start in less than 50% of games for your team. Therefore, we will define starter as players that start in >= 50% of games. We will create a new column `start_pct` by dividing `GS` column by `G` column, and use this to filter out rows.\n",
    "\n",
    "-Assign a new column `Year` for each of the 20 seasons (just a constant 2019 in this example case). This will help with merges and visualizing our data later on.\n",
    "\n",
    "-Only keep the following columns (to clean up and only keep statistics for our Linear Regressions that are simple and easy to interpret): `Year`, `Player`, `Tm`, `start_pct`, `MP`, `PTS`, `TRB`, `AST`, `FGA`, `FG%`, `3PA`, `3P%`, `2PA`, `2P%`, `FTA`, `FT%`, `STL`, `BLK`, `TOV`, `PF`, `start_pct`, `win_pct`\n",
    "\n",
    "-Stats like `FG` (Field Goals made), `FT`, `3P`, and `2P` are omitted because we also have the corresponding Attempts and Accuracy (%) stats, so we can always derive \"Made\" stats like `FG` from those two stats if needed. Including all three could lead to problems and noise in our Linear Regression since the 3 stats would be so related to each other (because they are derived from each other)."
   ]
  },
  {
   "cell_type": "code",
   "execution_count": null,
   "metadata": {},
   "outputs": [],
   "source": [
    "def dataprep_combined(player_df, team_df, year):\n",
    "    # Initialize player_winpct_df by inner-joining on `Year` and Team abbreviation,\n",
    "    # with player_df as left and team_df as right\n",
    "    player_winpct_df = player_df.merge(right=team_df[['Abbrev', 'Team', 'win_pct']], left_on='Tm', right_on='Abbrev')\n",
    "    \n",
    "    # Convert `G` and `GS` columns to integers so we can create `start_pct` column\n",
    "    player_winpct_df['G'] = player_winpct_df['G'].astype(int)\n",
    "    player_winpct_df['GS'] = player_winpct_df['GS'].astype(int)\n",
    "    \n",
    "    # Create `start_pct` column (`Gs` / `G`)\n",
    "    player_winpct_df['start_pct'] = player_winpct_df['GS'] / player_winpct_df['G']\n",
    "    \n",
    "    # Only keep rows with start_pct >= 0.500\n",
    "    player_winpct_df = player_winpct_df[player_winpct_df['start_pct'] >= 0.500]\n",
    "    \n",
    "    # Add the `Year` columns\n",
    "    player_winpct_df['Year'] = year\n",
    "    \n",
    "    # Only keep columns listed above\n",
    "    player_winpct_df = player_winpct_df[[\"Year\", \"Player\", \"Tm\", \"start_pct\", \"MP\", \"PTS\", \"TRB\", \"AST\", \\\n",
    "                                         \"FGA\", \"FG%\", \"3PA\", \"3P%\", \"2PA\", \"2P%\", \"FTA\", \"FT%\", \\\n",
    "                                         \"STL\", \"BLK\", \"TOV\", \"PF\", \"start_pct\", \"win_pct\"]]\n",
    "    \n",
    "    return player_winpct_df\n",
    "    \n",
    "player_winpct_df_2019 = dataprep_combined(player_df_2019, team_df_2019, 2019)\n",
    "display(player_winpct_df_2019)"
   ]
  },
  {
   "cell_type": "markdown",
   "metadata": {},
   "source": [
    "## Data Collection & Preparation (For All Seasons 2000-2001 to 2018-2019)\n",
    "\n",
    "Basically, we do all of the steps covered in the example above for all 20 seasons. We will union the 20 player_winpct_df's into one large df (which is why we added the `Year` column to help us differentiate after the union).\n",
    "\n",
    "**The result of this procedure is what we will use for our upcoming EDA & Linear Regression analysis!**"
   ]
  },
  {
   "cell_type": "markdown",
   "metadata": {},
   "source": [
    "**`abbrev_df`**\n",
    "\n",
    "-Re-create our `abbrev_df` using the `scrape_abbrev()` function from before. We will just use one abbrev-to-team table for all 20 seasons.\n",
    "\n",
    "-Manually add the abbreviations and team names of the few teams that changed names/abbreviations from 2000-2019, so that the merges with and between the player_df and team_df tables happen smoothly."
   ]
  },
  {
   "cell_type": "code",
   "execution_count": null,
   "metadata": {},
   "outputs": [],
   "source": [
    "# Get the current-day abbrev-->team pairs\n",
    "abbrev_df = scrape_abbrev()"
   ]
  },
  {
   "cell_type": "code",
   "execution_count": null,
   "metadata": {
    "scrolled": false
   },
   "outputs": [],
   "source": [
    "# Add some manual rows of teams with different abbreviations and names in the past\n",
    "manual_abbrevs = [\n",
    "    # Current Teams w/ Diff Abbrev in our dataset\n",
    "    ['BRK', 'Brooklyn Nets'],\n",
    "    ['PHO', 'Phoenix Suns'],\n",
    "    ['CHO', 'Charlotte Hornets'],\n",
    "    # Teams that no longer exist\n",
    "    ['VAN','Vancouver Grizzlies'],\n",
    "    ['SEA', 'Seattle SuperSonics'],\n",
    "    ['CHH', 'Charlotte Hornets'],\n",
    "    ['NJN', 'New Jersey Nets'],\n",
    "    ['NOH', 'New Orleans Hornets'],\n",
    "    ['NOK', 'New Orleans/Oklahoma City Hornets'],\n",
    "    ['CHA', 'Charlotte Bobcats'], # Need to remove existing mapping of CHA!\n",
    "]\n",
    "\n",
    "# Remove current mapping for 'CHA', 'BKN', and 'PHX', since those\n",
    "# abbrevs dont exist or mean something else in the basketballreference.com database\n",
    "abbrev_df = abbrev_df[abbrev_df['Abbrev'] != 'CHA']\n",
    "abbrev_df = abbrev_df[abbrev_df['Abbrev'] != 'BKN']\n",
    "abbrev_df = abbrev_df[abbrev_df['Abbrev'] != 'PHX']\n",
    "\n",
    "other_abbrevs=pd.DataFrame(manual_abbrevs, columns=[\"Abbrev\", \"Franchise\"])\n",
    "\n",
    "abbrev_df=abbrev_df.append(other_abbrevs, ignore_index=True)\n",
    "display(abbrev_df)"
   ]
  },
  {
   "cell_type": "markdown",
   "metadata": {},
   "source": [
    "**`player_df`, `team_df`, and `player_winpct_df` for all 20 seasons:**"
   ]
  },
  {
   "cell_type": "code",
   "execution_count": null,
   "metadata": {
    "scrolled": true
   },
   "outputs": [],
   "source": [
    "# Generic URLs that we can format a year into, so we can iterate through the 20 years\n",
    "player_avgs_url = '''https://www.basketball-reference.com/leagues/NBA_{}_per_game.html'''\n",
    "team_standings_url = '''https://www.basketball-reference.com/leagues/NBA_{}_standings.html'''\n",
    "\n",
    "# Empty Dataframe that we will keep appending with the results of each year's scraping + data prep\n",
    "final_player_winpct_df = pd.DataFrame()\n",
    "\n",
    "# Iterate from year 2001 (inclusive) to 2020 (exclusive) so that we can retrieve the right data\n",
    "for year in range(2001,2020):\n",
    "    curr_player_avg_url = player_avgs_url.format(year)\n",
    "    curr_team_standing_url = team_standings_url.format(year)\n",
    "    \n",
    "    # Data Collection\n",
    "    player_df = scrape_players(curr_player_avg_url)\n",
    "    team_df = scrape_standings(curr_team_standing_url)\n",
    "    \n",
    "    # Data Prep\n",
    "    player_df = dataprep_players(player_df)\n",
    "    team_df = dataprep_teams(team_df, abbrev_df)\n",
    "    \n",
    "    # Combine into one df\n",
    "    player_winpct_df = dataprep_combined(player_df, team_df, year)\n",
    "    \n",
    "    # Append to our final df\n",
    "    final_player_winpct_df=final_player_winpct_df.append(player_winpct_df, ignore_index=True)\n",
    "    \n",
    "# Convert all numeric columns from string to float to make sure our plotting and Linear Regressions run smoothly\n",
    "for col_name in final_player_winpct_df.columns[3:]:\n",
    "    final_player_winpct_df[col_name] = final_player_winpct_df[col_name].astype(float)"
   ]
  },
  {
   "cell_type": "code",
   "execution_count": null,
   "metadata": {},
   "outputs": [],
   "source": [
    "print(final_player_winpct_df.shape)\n",
    "# Make sure all teams are represented\n",
    "# Should be 37, since that is how many we had in our abbrev_df\n",
    "print(len(final_player_winpct_df['Tm'].unique()))\n",
    "# Another way to check is to make sure the following equality is true\n",
    "# This makes sure the abbrevs from abbrev_df is the same as the abbrevs\n",
    "# actually captured from our 20 seasons on BasketballReference.com\n",
    "print(set(abbrev_df['Abbrev']) == (set(final_player_winpct_df['Tm'].unique())))\n",
    "display(final_player_winpct_df)"
   ]
  },
  {
   "cell_type": "markdown",
   "metadata": {},
   "source": [
    "## Want to try out this dataset yourself?\n",
    "With the code below, I loaded `final_player_winpct_df` to a csv file and uploaded it online.\n",
    "\n",
    "You can download by visiting this link: https://adithyasolai.com/projects/nba_three_point_revolution/NBA%20Reg%20Season%20Player%20Avgs%20with%20Win%20Pct%202000-2019.csv"
   ]
  },
  {
   "cell_type": "code",
   "execution_count": null,
   "metadata": {},
   "outputs": [],
   "source": [
    "#final_player_winpct_df.to_csv(\"NBA Reg Season Player Avgs with Win Pct 2000-2019.csv\")"
   ]
  },
  {
   "cell_type": "markdown",
   "metadata": {},
   "source": [
    "## EDA (Exploratory Data Analysis)"
   ]
  },
  {
   "cell_type": "markdown",
   "metadata": {},
   "source": [
    "**Plot Violin Plot of 3PA (3-Pointers Attempted Per Game) stat against time to visually see if there is a linear trend (for all 20 years).**\n",
    "\n",
    "**Helps to answer the initial question of whether 3-point shooting is actually more popular in the 2015-2020 era than previous eras.**"
   ]
  },
  {
   "cell_type": "code",
   "execution_count": null,
   "metadata": {},
   "outputs": [],
   "source": [
    "# Create a new column `Year_Short` to be used when plotting so that the plot is cleaner\n",
    "# Basically just the `Year` column with only the last 2 digits.\n",
    "final_player_winpct_df['Year Short'] = final_player_winpct_df['Year']\n",
    "def apply_yr_short(x):\n",
    "    # Just use last 2 digits\n",
    "    return x%100\n",
    "final_player_winpct_df['Year Short'] = final_player_winpct_df['Year Short'].apply(apply_yr_short)"
   ]
  },
  {
   "cell_type": "code",
   "execution_count": null,
   "metadata": {},
   "outputs": [],
   "source": [
    "sns.violinplot(x='Year Short',y='3PA', data=final_player_winpct_df)\n",
    "plt.title(\"3-Pointers Attempted Per Game Over Time\")\n",
    "plt.xlabel(\"Year (2000-2019)\")\n",
    "plt.ylabel(\"3-Pointers Attempted Per Game\")"
   ]
  },
  {
   "cell_type": "markdown",
   "metadata": {},
   "source": [
    "**Comments:**\n",
    "\n",
    "The white dots in each violin represent the Median 3-Pt Attempts Per Game for that year. By following these white dots, we can see there is a linear positive trend. There is relatively steep increase from the year 2013 to 2014 and onwards, which is right around the time the \"Three Point Revolution\" began to be noticed and implemented across the league.\n",
    "\n",
    "The violins also show that 3-Pt attempts were right-skewed in the early 2000s, since the violins were fatter and wider towards the bottom and became skinner at the larger 3-Pt Attempt numbers on the y-axis. This means that most players were concentrated around a lower # of 3-Pt shots attempted per game, and a relatively few number of players took many 3-Pt shots.\n",
    "\n",
    "This right-skewed pattern continues until 2014, when the violins start to look bi-modal for 2014, 2015, and 2016. This means there is a large concentration of players taking few 3-Pt shots and an equally large concentration taking relatively more shots, with few in the middle.\n",
    "\n",
    "In 2017, 2018, and 2019, the violins become very skinny and don't have any noticeable peaks/skewness, which represents a more uniform distribution. By 2019, we can start to see a new trend emerging where there is a single peak/fatness in the middle of the violin near the median.\n",
    "\n",
    "(The needle-like tops of the violins are caused by a few specialist outlier players that are likely star players or very efficient 3-Pt marksman that are allowed to take more 3-pointers than most players in the league. We can see these players have existed to some extent in all years. The extent to which these specialist players shoot more 3s is different, however. We can see the outlier specialist players in 2016 and onwards take considerably more 3s than the outlier specialist players from years like 2009-2012.)\n",
    "\n",
    "We will have to do a formal Linear Regression and t-test to determine if this linear trend from about 2 3-Pt Attempts on average (median from 2001 violin) to about 4 3-Pt Attempts on average (median from 2019 violin) is statistically significant."
   ]
  },
  {
   "cell_type": "markdown",
   "metadata": {},
   "source": [
    "**Plot Violin Plot of 3P% (3-Pointer Make % or Efficiency) stat against time to visually see if there is a linear trend (for all 20 years).**\n",
    "\n",
    "**Helps to see if NBA Starters have gotten more efficient at shooting 3-pointers in the 2015-2020 era alongside the growing 3-pointers attempted stat.**"
   ]
  },
  {
   "cell_type": "code",
   "execution_count": null,
   "metadata": {},
   "outputs": [],
   "source": [
    "sns.violinplot(x='Year Short',y='3P%', data=final_player_winpct_df)\n",
    "plt.title(\"3-Pointers Make % Over Time\")\n",
    "plt.xlabel(\"Year (2000-2019)\")\n",
    "plt.ylabel(\"3-Pointer Make %\")"
   ]
  },
  {
   "cell_type": "markdown",
   "metadata": {},
   "source": [
    "**Comments:**\n",
    "\n",
    "The outliers in these violins make it harder to make out a linear trend. The outliers of players with near-100% and near-0% efficiency is caused by starters who take very few 3-pointers despite being starters. Some examples of SUPERSTAR-calibar players that could still fall under this outlier category are: Shaquille O'Neal, Dwight Howard, and Ben Simmons. These types of players probably took 1-2 3s an entire season and either made them all (100%) or made none (0%).\n",
    "\n",
    "However, the median white dots show that median 3-Pt efficiency in 2001 was about 32%, and this figure was close to about 38% in 2019. From my domain knowledge, I think this change is pretty significant, especially since the peak, peak theoretical 3-Pt efficiency humanly possible is about 50% in my opinion (which is still really high). We will have to do a formal Linear Regression and t-test to confirm that this is statistically significant.\n",
    "\n",
    "Over time, the violins become fatter towards the median and form a clear single peak. This indicates more and more players in the league are able to shoot at a similar 3-Pt efficiency around the median over time. The violins in the early 2000s, by comparison, are much skinnier and uniform, meaning 3-Pt efficiencies are all over the place.\n",
    "\n",
    "I am not sure if \"linear\" is the best way to characterize these trends, however. We see the white dots go up from 2004-2009, then dip down until 2013, and then consistently go up until 2019. In future studies, it would be helpful to get data from more years (say 1980-2000) to see if these ups & downs are not significant in the overall trends."
   ]
  },
  {
   "cell_type": "markdown",
   "metadata": {},
   "source": [
    "## Hypothesis Testing & \"Machine Learning\"\n",
    "\n",
    "-I will be relying heavily on Linear Regression as my \"Machine Learning\" tool for helping to test my questions & hypotheses.\n",
    "\n",
    "-We can use t-tests on coefficieints of the Linear Regression results to test my prediction & questions."
   ]
  },
  {
   "cell_type": "markdown",
   "metadata": {},
   "source": [
    "**Is there a linear relationship between Year and 3-Pointers Attempted?**\n",
    "\n",
    "Ho (Null Hypothesis): There is no relationship between Year and 3-Pointers Attempted.\n",
    "\n",
    "or \n",
    "\n",
    "Ho: B1 = 0 (where B1 is the coefficient for Year in the population-level linear regression model for 3PA~Year)\n",
    "\n",
    "Ha: B1 /= 0"
   ]
  },
  {
   "cell_type": "code",
   "execution_count": null,
   "metadata": {},
   "outputs": [],
   "source": [
    "final_player_winpct_df.columns"
   ]
  },
  {
   "cell_type": "code",
   "execution_count": null,
   "metadata": {},
   "outputs": [],
   "source": [
    "# Only using 'Year' columnm, so we need to reshape to fit scikit's fit() function\n",
    "regr_X = np.array(final_player_winpct_df['Year']).reshape(-1,1)\n",
    "# Response is '3PA', or the average # of 3-pointers attempted Per Game\n",
    "regr_y = final_player_winpct_df['3PA']\n",
    "\n",
    "# Building a linear regression model using scikit's sklearn\n",
    "regr = linear_model.LinearRegression()\n",
    "\n",
    "# Calculating the parameters of our regression model using the fit() method\n",
    "le_year_lin_model = regr.fit(X=regr_X, y=regr_y)\n",
    "\n",
    "# Coefficient of year in our model\n",
    "print(\"Coefficient of year in our model: \", le_year_lin_model.coef_)\n",
    "\n",
    "# Intercept Value in our model\n",
    "print(\"Intercept in our model: \", le_year_lin_model.intercept_)\n",
    "\n",
    "# Coefficient of Determination Score\n",
    "print(\"R^2 Score: \", regr.score(X=regr_X, y=regr_y))"
   ]
  },
  {
   "cell_type": "markdown",
   "metadata": {},
   "source": [
    "Run again with statsmodels.api OLS to double-check and get hypothesis testing statistics like t-statistic and p-value"
   ]
  },
  {
   "cell_type": "code",
   "execution_count": null,
   "metadata": {
    "scrolled": false
   },
   "outputs": [],
   "source": [
    "# Need to add a column of 1s to create a constant term\n",
    "# statsmodels.api does not do it for us like sklearn does\n",
    "summary_X = sm.add_constant(regr_X)\n",
    "\n",
    "# Make into dataframes to make sure variable names are shown in output\n",
    "summary_X = pd.DataFrame(summary_X).reset_index(drop=True)\n",
    "summary_X.columns = ['Constant', 'Year']\n",
    "summary_y = pd.DataFrame(regr_y).reset_index(drop=True)\n",
    "\n",
    "summary_est = sm.OLS(summary_y, summary_X)\n",
    "\n",
    "\n",
    "print(summary_est.fit().summary())"
   ]
  },
  {
   "cell_type": "markdown",
   "metadata": {},
   "source": [
    "**Results/Comments:**\n",
    "\n",
    "Based on the results of fitting our Linear Regression model above, I reject the null hypothesis at a 95% confidence level (alpha=0.05, a two-tailed t-test). The t-value for our predictor `Year` is 14.482, which is much greater than t-critical value (1.96) for this confidence level (t-critical values found here: https://www.stat.colostate.edu/inmem/gumina/st201/pdf/Utts-Heckard_t-Table.pdf). Additionally, having a p-value of 0.000 for our predictor `Year` is another indicator of rejecting the null hypothesis, and so is not having 0 within our 95% Confidence Interval of [0.080, 0.106]. \n",
    "\n",
    "Therefore, since the coefficient of `Year` is positive, we can interpret it as: \"On average, 3-point shot attempts increase by 0.093 shots every year in the NBA from 2000-2019.\"\n",
    "\n",
    "Therefore, our first hypothesis turned out to be true for our sample (only starters, only 2000-2019) !!!"
   ]
  },
  {
   "cell_type": "markdown",
   "metadata": {},
   "source": [
    "**Repeat the same as above to test whether there is a linear relationship between Year and 3-Point Shot Efficiency:**\n",
    "\n",
    "Ho (Null Hypothesis): There is no relationship between Year and 3-Pointer Efficiency.\n",
    "\n",
    "or \n",
    "\n",
    "Ho: B1 = 0 (where B1 is the coefficient for Year in the population-level linear regression model for 3P%~Year)\n",
    "\n",
    "Ha: B1 /= 0"
   ]
  },
  {
   "cell_type": "code",
   "execution_count": null,
   "metadata": {},
   "outputs": [],
   "source": [
    "# Get columns for the regression\n",
    "regr_Xy = final_player_winpct_df[['Year', '3P%']]\n",
    "# Drop all rows with NaN for players that never took any 3-point shots\n",
    "regr_Xy = regr_Xy[regr_Xy['3P%'].isnull() == False]\n",
    "\n",
    "# Only using 'Year' columnm, so we need to reshape to fit scikit's fit() function\n",
    "regr_X = np.array(regr_Xy['Year']).reshape(-1,1)\n",
    "\n",
    "# Response is '3P%', or the 3-Pointer Make % Per Game\n",
    "regr_y = regr_Xy['3P%']\n",
    "\n",
    "# Building a linear regression model using scikit's sklearn\n",
    "regr = linear_model.LinearRegression()\n",
    "\n",
    "# Calculating the parameters of our regression model using the fit() method\n",
    "le_year_lin_model = regr.fit(X=regr_X, y=regr_y)\n",
    "\n",
    "# Coefficient of year in our model\n",
    "print(\"Coefficient of year in our model: \", le_year_lin_model.coef_)\n",
    "\n",
    "# Intercept Value in our model\n",
    "print(\"Intercept in our model: \", le_year_lin_model.intercept_)\n",
    "\n",
    "# Coefficient of Determination Score\n",
    "print(\"R^2 Score: \", regr.score(X=regr_X, y=regr_y))"
   ]
  },
  {
   "cell_type": "markdown",
   "metadata": {},
   "source": [
    "Run again with statsmodels.api OLS to double-check and get hypothesis testing statistics like t-statistic and p-value"
   ]
  },
  {
   "cell_type": "code",
   "execution_count": null,
   "metadata": {
    "scrolled": false
   },
   "outputs": [],
   "source": [
    "# Need to add a column of 1s to create a constant term\n",
    "# statsmodels.api does not do it for us like sklearn does\n",
    "summary_X = sm.add_constant(regr_X)\n",
    "\n",
    "# Make into dataframes to make sure variable names are shown in output\n",
    "summary_X = pd.DataFrame(summary_X).reset_index(drop=True)\n",
    "summary_X.columns = ['Constant', 'Year']\n",
    "summary_y = pd.DataFrame(regr_y).reset_index(drop=True)\n",
    "\n",
    "summary_est = sm.OLS(summary_y, summary_X)\n",
    "\n",
    "print(summary_est.fit().summary())"
   ]
  },
  {
   "cell_type": "markdown",
   "metadata": {},
   "source": [
    "**Results/Comments:**\n",
    "\n",
    "I reject the null hypothesis at a 95% confidence level (alpha=0.05, a two-tailed t-test) since we have a p-value of 0.000 for our predictor `Year` and 0 is not within our 95% Confidence Interval of [0.002, 0.004]. \n",
    "\n",
    "Therefore, since the coefficient of `Year` is positive, we can interpret it as: \"On average, 3-point shot accuracy increases by 0.003 (or 0.3%) every year in the NBA from 2000-2019\". As mentioned before, this yearly increase of 0.3% is HUGE in the context of this domain because even an overall 3-pt shooting efficiency of 40% is considered GREAT by today's standards. \n",
    "\n",
    "Therefore, our second hypothesis turned out to be true for our sample (only starters, only 2000-2019) !!! Starters in the NBA are starting to get more efficient at shooting 3s alongside attempting more of them."
   ]
  },
  {
   "cell_type": "markdown",
   "metadata": {},
   "source": [
    "**Now, we will run a Multiple Linear Regression in each of the 4 eras to see if 3PA & 3P% are still significant predictors of Team Win% when considering all of the other player statistics:**\n",
    "\n",
    "**Basically, we want to see what are the favorable stats in a player that lead to a higher win-pct, and whether 3-point attempts and efficiency is a significant player in that equation.**\n",
    "\n",
    "We need to do a bit of data preparation first. We will first need to separate our total dataset into 4 smaller datasets for each era. We will also make some key transformations and standardizations to the stats, and also trim down which stats we focus on. As before, we will walk through all of the transformations with era1 first as an example, and then do it all at once for the other 3 eras in a for-loop"
   ]
  },
  {
   "cell_type": "markdown",
   "metadata": {},
   "source": [
    "First, let's filter `final_player_winpct_df` to just era 1 (2000-2004)"
   ]
  },
  {
   "cell_type": "code",
   "execution_count": null,
   "metadata": {},
   "outputs": [],
   "source": [
    "# The 2000-2004 era\n",
    "era1_end_2004 = final_player_winpct_df[final_player_winpct_df['Year'].isin([2001,2002,2003,2004])]\n",
    "# print the unique years seen in this df to make sure we only use the years we intended\n",
    "print(era1_end_2004['Year'].unique())"
   ]
  },
  {
   "cell_type": "markdown",
   "metadata": {},
   "source": [
    "We don't care about `Year`, `Player` (the player's name), `Tm`, or `start_pct`, since these don't help us answer which player metrics lead to more wins"
   ]
  },
  {
   "cell_type": "code",
   "execution_count": null,
   "metadata": {},
   "outputs": [],
   "source": [
    "era1_end_2004 = era1_end_2004.drop(labels=['Year', 'Player', 'Tm', 'start_pct', 'Year Short'], axis=1)\n",
    "era1_end_2004.head()"
   ]
  },
  {
   "cell_type": "markdown",
   "metadata": {},
   "source": [
    "We will **standardize** tally stats like `PTS`, `TRB` (total rebounds), `AST` (assists), `STL` (steals), `BLK` (blocks), `TOV` (turnovers), and `PF` (personal fouls) by  dividing them by the minutes played (or `MP`). This will help show how efficient each player is in each of these stats.\n",
    "\n",
    "We don't want our Linear Regression model to just point out obvious facts like \"scoring more points leads to more victories\", so we will use efficiency metrics as our predictors instead.\n",
    "\n",
    "Drop the `MP` column after this standardization, as it no longer serves any purpose.\n",
    "\n",
    "Rename the columns we just standardized to indicate that these are now **efficiency** metric. Ex: `PT` --> `efPT`."
   ]
  },
  {
   "cell_type": "code",
   "execution_count": null,
   "metadata": {},
   "outputs": [],
   "source": [
    "# Standardize by converting these to efficiency metrics\n",
    "era1_end_2004['PTS'] = era1_end_2004['PTS'] / era1_end_2004['MP']\n",
    "era1_end_2004['TRB'] = era1_end_2004['TRB'] / era1_end_2004['MP']\n",
    "era1_end_2004['AST'] = era1_end_2004['AST'] / era1_end_2004['MP']\n",
    "era1_end_2004['STL'] = era1_end_2004['STL'] / era1_end_2004['MP']\n",
    "era1_end_2004['BLK'] = era1_end_2004['BLK'] / era1_end_2004['MP']\n",
    "era1_end_2004['TOV'] = era1_end_2004['TOV'] / era1_end_2004['MP']\n",
    "era1_end_2004['PF'] = era1_end_2004['PF'] / era1_end_2004['MP']\n",
    "\n",
    "# Drop `MP` column\n",
    "era1_end_2004 = era1_end_2004.drop(labels=['MP'], axis=1)\n",
    "\n",
    "# Rename columns\n",
    "new_names = {'PTS': 'efPTS',\n",
    "             'TRB': 'efTRB',\n",
    "             'AST': 'efAST',\n",
    "             'STL': 'efSTL',\n",
    "             'BLK': 'efBLK',\n",
    "             'TOV': 'efTOV',\n",
    "             'PF': 'efPF'}\n",
    "era1_end_2004 = era1_end_2004.rename(columns=new_names)\n",
    "\n",
    "era1_end_2004.head()"
   ]
  },
  {
   "cell_type": "markdown",
   "metadata": {},
   "source": [
    "Drop the `FGA` and `FG%` columns, as those columns can be derived from `3PA`, `3P%`, `2PA`, and `2P%`. `FGA` and `FG%` are basically the attempts and efficiency metrics for \"Field Goals\", which is just a term to describe non-Free Throw points earned (3-pointers and 2-pointers).\n",
    "\n",
    "Keeping these columns could cause severe multicollinearity, which adds noise to our final Linear Regression. Read more about multicollinearity here: https://www.statisticshowto.com/multicollinearity/. Being able to transform other predictor variables into `FGA` and `FG%` makes these variables the worst case scenario for multicollinearity, since the relationship is exact, direct, and CAUSAL.\n",
    "\n",
    "For the purposes of our study, we would also prefer to isolate `3PA` and `3P%` as much as possible, and remove predictors like `FGA` and `FG%` that incorporate 3-pointer metrics in its derivation."
   ]
  },
  {
   "cell_type": "code",
   "execution_count": null,
   "metadata": {
    "scrolled": true
   },
   "outputs": [],
   "source": [
    "era1_end_2004 = era1_end_2004.drop(labels=['FGA', 'FG%'], axis=1)\n",
    "era1_end_2004.head()"
   ]
  },
  {
   "cell_type": "markdown",
   "metadata": {},
   "source": [
    "Drop `3PA`, `2PA`, and `FTA` since we really only care about efficiency. The attempts of 3-pointers, 2-pointers, and Free Throws is more dependent on the number of minutes a player is allowed to play, so we want to remove this factor to standardize things.\n",
    "\n",
    "We still have the `%` (efficiency) columns for these 3 metrics."
   ]
  },
  {
   "cell_type": "code",
   "execution_count": null,
   "metadata": {},
   "outputs": [],
   "source": [
    "era1_end_2004 = era1_end_2004.drop(labels=['3PA', '2PA', 'FTA'], axis=1)\n",
    "era1_end_2004.head()"
   ]
  },
  {
   "cell_type": "markdown",
   "metadata": {},
   "source": [
    "Last bit of Data Prep: \n",
    "\n",
    "Drop all rows with NaN for `3P%`, `2P%`, and `FT%` (players that never took any 3-pt shots, 2-pt shots, or free throws)."
   ]
  },
  {
   "cell_type": "code",
   "execution_count": null,
   "metadata": {},
   "outputs": [],
   "source": [
    "print(\"Before: \", era1_end_2004.shape)\n",
    "era1_end_2004 = era1_end_2004[era1_end_2004['3P%'].isnull() == False]\n",
    "era1_end_2004 = era1_end_2004[era1_end_2004['2P%'].isnull() == False]\n",
    "era1_end_2004 = era1_end_2004[era1_end_2004['FT%'].isnull() == False]\n",
    "print(\"After: \", era1_end_2004.shape)"
   ]
  },
  {
   "cell_type": "markdown",
   "metadata": {},
   "source": [
    "Now, we're ready to run our Multiple Linear Regression with `win_pct` as the response, and all other columns above as the predictors."
   ]
  },
  {
   "cell_type": "code",
   "execution_count": null,
   "metadata": {
    "scrolled": false
   },
   "outputs": [],
   "source": [
    "# Select all columns except `win_pct`, which is our response\n",
    "regr_X = era1_end_2004.loc[:, era1_end_2004.columns != 'win_pct']\n",
    "\n",
    "# Response is `win_pct`\n",
    "regr_y = era1_end_2004['win_pct']\n",
    "\n",
    "# Need to add a column of 1s to create a constant term\n",
    "# statsmodels.api does not do it for us like sklearn does\n",
    "summary_X = sm.add_constant(regr_X)\n",
    "\n",
    "# Make into dataframes to make sure variable names are shown in output\n",
    "summary_X = pd.DataFrame(summary_X).reset_index(drop=True)\n",
    "summary_X.columns =  ['Constant'] + list(era1_end_2004.columns[:-1])\n",
    "summary_y = pd.DataFrame(regr_y).reset_index(drop=True)\n",
    "\n",
    "summary_est = sm.OLS(summary_y, summary_X)\n",
    "\n",
    "print(summary_est.fit().summary())"
   ]
  },
  {
   "cell_type": "markdown",
   "metadata": {},
   "source": [
    "We will analyze these results later!\n",
    "\n",
    "Now, we will package the data prep and modeling code we just did in our example into convenient functions that will allow us to run this Linear Regression Model across all eras."
   ]
  },
  {
   "cell_type": "code",
   "execution_count": null,
   "metadata": {},
   "outputs": [],
   "source": [
    "def dataprep_linreg(era):\n",
    "    era_local = era.copy()\n",
    "    \n",
    "    # Drop useless columns\n",
    "    era_local = era_local.drop(labels=['Year', 'Player', 'Tm', 'start_pct', 'Year Short'], axis=1)\n",
    "    \n",
    "    # Standardize by converting these to efficiency metrics\n",
    "    era_local['PTS'] = era_local['PTS'] / era_local['MP']\n",
    "    era_local['TRB'] = era_local['TRB'] / era_local['MP']\n",
    "    era_local['AST'] = era_local['AST'] / era_local['MP']\n",
    "    era_local['STL'] = era_local['STL'] / era_local['MP']\n",
    "    era_local['BLK'] = era_local['BLK'] / era['MP']\n",
    "    era_local['TOV'] = era_local['TOV'] / era_local['MP']\n",
    "    era_local['PF'] = era_local['PF'] / era_local['MP']\n",
    "\n",
    "    # Drop `MP` column\n",
    "    era_local = era_local.drop(labels=['MP'], axis=1)\n",
    "\n",
    "    # Rename columns\n",
    "    new_names = {'PTS': 'efPTS',\n",
    "                 'TRB': 'efTRB',\n",
    "                 'AST': 'efAST',\n",
    "                 'STL': 'efSTL',\n",
    "                 'BLK': 'efBLK',\n",
    "                 'TOV': 'efTOV',\n",
    "                 'PF': 'efPF'}\n",
    "    era_local = era_local.rename(columns=new_names)\n",
    "    \n",
    "    # Drop FG-related columns to avoid multicollinearity\n",
    "    era_local = era_local.drop(labels=['FGA', 'FG%'], axis=1)\n",
    "    \n",
    "    # Drop Attempt columns, as we care mostly about efficiency\n",
    "    era_local = era_local.drop(labels=['3PA', '2PA', 'FTA'], axis=1)\n",
    "    \n",
    "    # Remove NaN values in columns where players took no attempts\n",
    "    era_local = era_local[era_local['3P%'].isnull() == False]\n",
    "    era_local = era_local[era_local['2P%'].isnull() == False]\n",
    "    era_local = era_local[era_local['FT%'].isnull() == False]\n",
    "    \n",
    "    return pd.DataFrame(era_local)"
   ]
  },
  {
   "cell_type": "code",
   "execution_count": null,
   "metadata": {},
   "outputs": [],
   "source": [
    "def runlinreg(era):\n",
    "    # Select all columns except `win_pct`, which is our response\n",
    "    regr_X = era.loc[:, era.columns != 'win_pct']\n",
    "\n",
    "    # Response is `win_pct`\n",
    "    regr_y = era['win_pct']\n",
    "\n",
    "    # Need to add a column of 1s to create a constant term\n",
    "    # statsmodels.api does not do it for us like sklearn does\n",
    "    summary_X = sm.add_constant(regr_X)\n",
    "\n",
    "    # Make into dataframes to make sure variable names are shown in output\n",
    "    summary_X = pd.DataFrame(summary_X).reset_index(drop=True)\n",
    "    summary_X.columns =  ['Constant'] + list(era.columns[:-1])\n",
    "    summary_y = pd.DataFrame(regr_y).reset_index(drop=True)\n",
    "\n",
    "    summary_est = sm.OLS(summary_y, summary_X)\n",
    "\n",
    "    print(summary_est.fit().summary())"
   ]
  },
  {
   "cell_type": "markdown",
   "metadata": {},
   "source": [
    "**Finally,** lets run the Linear Regression on all eras and see the output!"
   ]
  },
  {
   "cell_type": "code",
   "execution_count": null,
   "metadata": {},
   "outputs": [],
   "source": [
    "# The 2000-2004 era\n",
    "era1_end_2004 = final_player_winpct_df[final_player_winpct_df['Year'].isin([2001,2002,2003,2004])]\n",
    "\n",
    "# The 2005-2009 era\n",
    "era2_end_2009 = final_player_winpct_df[final_player_winpct_df['Year'].isin([2005,2006,2007,2008, 2009])]\n",
    "\n",
    "# The 2010-2014 era\n",
    "era3_end_2014 = final_player_winpct_df[final_player_winpct_df['Year'].isin([2010,2011,2012,2013,2014])]\n",
    "\n",
    "# The 2015-2019 era\n",
    "era4_end_2019 = final_player_winpct_df[final_player_winpct_df['Year'].isin([2015,2016,2017,2018,2019])]"
   ]
  },
  {
   "cell_type": "code",
   "execution_count": null,
   "metadata": {
    "scrolled": false
   },
   "outputs": [],
   "source": [
    "# Put all era's dfs in a list\n",
    "eras = [era1_end_2004, era2_end_2009, era3_end_2014, era4_end_2019]\n",
    "\n",
    "for idx, era in enumerate(eras):\n",
    "    era = dataprep_linreg(era)\n",
    "    \n",
    "    print(\"ERA\", idx+1, \"LINEAR REGRESSION RESULTS: \")\n",
    "    runlinreg(era)\n",
    "    print()"
   ]
  },
  {
   "cell_type": "markdown",
   "metadata": {},
   "source": [
    "**Results**\n",
    "\n",
    "By using our Hypothesis Testing methodology from before, I determined the following predictors reject the null hypothesis and are significant in predicting `win_pct` when holding all other predictors constant. (I did this by just selecting the predictors in each era's Linear Regression summary that had a p-value < 0.05):\n",
    "\n",
    "**Era 1 (2000-2004):**\n",
    "\n",
    "efPTS (p-val = 0.005)\n",
    "\n",
    "efAST (p-val = 0.000)\n",
    "\n",
    "2P% (p-val = 0.000) \n",
    "\n",
    "efTOV (p-val = 0.000)\n",
    "\n",
    "**Era 2 (2005-2009):**\n",
    "\n",
    "efPTS (p-val = 0.001)\n",
    "\n",
    "efAST (p-val = 0.000) \n",
    "\n",
    "2P% (p-val = 0.000)\n",
    "\n",
    "efBLK (p-val = 0.009)\n",
    "\n",
    "efTOV (p-val = 0.000)\n",
    "\n",
    "**Era 3 (2010-2014):**\n",
    "\n",
    "efPTS (p-val = 0.028)\n",
    "\n",
    "efAST (p-val = 0.017)\n",
    "\n",
    "3P% (p-val = 0.002)\n",
    "\n",
    "2P% (p-val = 0.000)\n",
    "\n",
    "efSTL (p-val = 0.017)\n",
    "\n",
    "efBLK (p-val = 0.001)\n",
    "\n",
    "efTOV (p-val = 0.001)\n",
    "\n",
    "efPF (p-val = 0.017)\n",
    "\n",
    "**Era 4 (2015-2019):**\n",
    "\n",
    "efPTS (p-val = 0.023)\n",
    "\n",
    "efAST (p-val = 0.000)\n",
    "\n",
    "3P% (p-val = 0.004) \n",
    "\n",
    "2P% (p-val = 0.000)\n",
    "\n",
    "efBLK (p-val = 0.016)\n",
    "\n",
    "efTOV (p-val = 0.000)"
   ]
  },
  {
   "cell_type": "markdown",
   "metadata": {},
   "source": [
    "**Conclusion Preamble**\n",
    "\n",
    "Before addressing our questions from the beginning of this study, let's discuss how to interpret and compare the Linear Regression results from the 4 eras. It is hard to use coefficients to compare across eras because, although they are all efficiency metrics, the `3P%`, `2P%`, and `FT%` predictors use shots taken as the standardizer, while the other predictors use minutes played. Additionally, these coefficients are hard to use and interpret like we did with our Simple Linear Regression with just one predictor. This is because all of these predictors are in the range 0-1 (0%-100%), and our standard tactic of talking about the change in response after 1 unit of increase in the predictors does not make sense because 1 unit of increase is a whole 100%.\n",
    "\n",
    "Let's just keep things simple and use the sign of the coefficients (positive or negative) and the magnitude of the p-value (analogous to and derived from the t-statistic) to help make comparisons and observations. A smaller p-value indicates STRONGER evidence to reject the null hypothesis, making predictors with relatively smaller p-values less likely to not actually be a significant predictor compared to other predictors. Read more about the exact definition and interpretation of p-values here: https://www.statsdirect.com/help/basics/p_values.htm.\n",
    "\n",
    "Also, it is important to remember that the `efPTS` predictor is not highly-correlated with `3P%`, `2P%`, and `FT%`, since the former is based on minutes played, and the latter is based on shot attempts. Obviously, minutes played and shot attempts are themselves related, but overall this is not as big of an issue as predictors directly derivable from other predictors.\n",
    "\n",
    "**CONCLUSION**\n",
    "\n",
    "My hypothesis that 3-point efficiency would be a significant predictor of success in ALL ERAS was WRONG! As per the results above, 3-point efficiency only became a significant predictor in eras 3 & 4 (2010-2019). I think this result is indicative of the growing power of the 3-point shot. In eras 1 & 2 (2000-2009), the list of significant predictors was much smaller than later eras, and was largely made up of predictors that strictly related to just putting the ball in the hoop to score more points to win more games (points scoring efficiency, 2-pointer scoring efficiency, assists efficiency). In the more recent eras, however, 3-point efficiency started to become significant in its own right even in the context of these staple predictors.\n",
    "\n",
    "My other hypothesis regarding to what extent 3-point efficiency DOMINATES other predictors is hard to tell with this approach. Although `3P%` does have a lower p-value compared to other predictors in the later eras (3 & 4), I still don't feel comfortable using that as a definitive measure. However, I can at least see that 3-point efficiency has become MORE dominant/important as time goes on because of the observations for our other hypothesis question."
   ]
  },
  {
   "cell_type": "markdown",
   "metadata": {},
   "source": [
    "**Things to Improve On**\n",
    "\n",
    "We need to find a better way to represent our predictors so that interpretation and comparisons are easier across eras.\n",
    "\n",
    "Alternatively, we could find some other regression method that gives us some output statistics on each predictor that can be used universally to compare with the output of other eras.\n",
    "\n",
    "It would also help to get more domain knowledge on applying Data Science to Basketball Statistics. The following Youtube video and channel dive into the intersection of basketball and analytics, and what are some mistakes to avoid when using Per-Game statistics. I tried my best to follow these guidelines for this dataset.\n",
    "\n",
    "https://www.youtube.com/watch?v=pznoCFs7XZg&ab_channel=ThinkingBasketball"
   ]
  }
 ],
 "metadata": {
  "kernelspec": {
   "display_name": "Python 3.7.4 64-bit ('base': conda)",
   "language": "python",
   "name": "python37464bitbaseconda9464b569a4ee459cab97fec432dce6d8"
  },
  "language_info": {
   "codemirror_mode": {
    "name": "ipython",
    "version": 3
   },
   "file_extension": ".py",
   "mimetype": "text/x-python",
   "name": "python",
   "nbconvert_exporter": "python",
   "pygments_lexer": "ipython3",
   "version": "3.7.4"
  }
 },
 "nbformat": 4,
 "nbformat_minor": 2
}
